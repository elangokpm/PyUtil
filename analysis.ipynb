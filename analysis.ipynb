{
  "nbformat": 4,
  "nbformat_minor": 0,
  "metadata": {
    "colab": {
      "name": "analysis.ipynb",
      "version": "0.3.2",
      "provenance": [],
      "include_colab_link": true
    },
    "kernelspec": {
      "name": "python3",
      "display_name": "Python 3"
    }
  },
  "cells": [
    {
      "cell_type": "markdown",
      "metadata": {
        "id": "view-in-github",
        "colab_type": "text"
      },
      "source": [
        "[View in Colaboratory](https://colab.research.google.com/github/elangokpm/PyUtil/blob/master/analysis.ipynb)"
      ]
    },
    {
      "metadata": {
        "id": "jwjXDPzr5D_Q",
        "colab_type": "code",
        "colab": {}
      },
      "cell_type": "code",
      "source": [
        "import pandas as pd\n",
        "import numpy as np\n",
        "import seaborn as sns"
      ],
      "execution_count": 0,
      "outputs": []
    },
    {
      "metadata": {
        "id": "Vx69qmP43VHT",
        "colab_type": "code",
        "colab": {}
      },
      "cell_type": "code",
      "source": [
        "#find the column names which correlated between range\n",
        "def get_corr_columns(df,min=0.85,max=1):  \n",
        "  corr = df.corr()\n",
        "  ser = corr[((corr < -min) & (corr > -min)) | ((corr > min) & (corr < max))].notnull().sum()\n",
        "  return ser[ser>0].index"
      ],
      "execution_count": 0,
      "outputs": []
    },
    {
      "metadata": {
        "id": "lu-8j5-I5jBd",
        "colab_type": "code",
        "colab": {}
      },
      "cell_type": "code",
      "source": [
        "#draw the distribution plots for all the features\n",
        "def distplots(df,figsize = (14,14)):\n",
        "  cols = 4\n",
        "  rows = np.ceil(len(df.columns)/cols).astype(int)\n",
        "  fig,axs = sns.plt.subplots(nrows= rows,ncols= cols,figsize = figsize)\n",
        "  i =0\n",
        "  j = 0\n",
        "  for name in df.columns:\n",
        "    if j>= cols:\n",
        "      j = 0\n",
        "      i += 1\n",
        "    sns.distplot(df[name],ax = axs[i,j])\n",
        "    j += 1"
      ],
      "execution_count": 0,
      "outputs": []
    }
  ]
}